{
 "cells": [
  {
   "cell_type": "code",
   "execution_count": 1,
   "id": "ed2d315c",
   "metadata": {},
   "outputs": [
    {
     "name": "stderr",
     "output_type": "stream",
     "text": [
      "C:\\Users\\Mhmd\\Anaconda3\\lib\\site-packages\\statsmodels\\tools\\_testing.py:19: FutureWarning: pandas.util.testing is deprecated. Use the functions in the public API at pandas.testing instead.\n",
      "  import pandas.util.testing as tm\n"
     ]
    }
   ],
   "source": [
    "import numpy as np \n",
    "import pandas as pd\n",
    "import matplotlib.pyplot as plt\n",
    "import seaborn as sns "
   ]
  },
  {
   "cell_type": "code",
   "execution_count": 2,
   "id": "7c594bbb",
   "metadata": {},
   "outputs": [],
   "source": [
    "data = pd.read_excel('company_data.xlsx')"
   ]
  },
  {
   "cell_type": "code",
   "execution_count": 3,
   "id": "dcc6cd37",
   "metadata": {},
   "outputs": [
    {
     "data": {
      "text/html": [
       "<div>\n",
       "<style scoped>\n",
       "    .dataframe tbody tr th:only-of-type {\n",
       "        vertical-align: middle;\n",
       "    }\n",
       "\n",
       "    .dataframe tbody tr th {\n",
       "        vertical-align: top;\n",
       "    }\n",
       "\n",
       "    .dataframe thead th {\n",
       "        text-align: right;\n",
       "    }\n",
       "</style>\n",
       "<table border=\"1\" class=\"dataframe\">\n",
       "  <thead>\n",
       "    <tr style=\"text-align: right;\">\n",
       "      <th></th>\n",
       "      <th>Order ID</th>\n",
       "      <th>Order Date</th>\n",
       "      <th>Unit Cost</th>\n",
       "      <th>Price</th>\n",
       "      <th>Order Qty</th>\n",
       "      <th>Cost of Sales</th>\n",
       "      <th>Sales</th>\n",
       "      <th>Profit</th>\n",
       "      <th>Channel</th>\n",
       "      <th>Promotion Name</th>\n",
       "      <th>Product Name</th>\n",
       "      <th>Manufacturer</th>\n",
       "      <th>Product Sub Category</th>\n",
       "      <th>Product Category</th>\n",
       "      <th>Region</th>\n",
       "      <th>City</th>\n",
       "      <th>Country</th>\n",
       "    </tr>\n",
       "  </thead>\n",
       "  <tbody>\n",
       "    <tr>\n",
       "      <th>0</th>\n",
       "      <td>7077</td>\n",
       "      <td>2017-09-13</td>\n",
       "      <td>76.094968</td>\n",
       "      <td>304.00</td>\n",
       "      <td>9</td>\n",
       "      <td>684.854710</td>\n",
       "      <td>2714.7200</td>\n",
       "      <td>2029.865290</td>\n",
       "      <td>Store</td>\n",
       "      <td>European Spring Promotion</td>\n",
       "      <td>Contoso SLR Camera M143 Grey</td>\n",
       "      <td>Contoso, Ltd</td>\n",
       "      <td>Digital SLR Cameras</td>\n",
       "      <td>Cameras and camcorders</td>\n",
       "      <td>Europe</td>\n",
       "      <td>Moscow</td>\n",
       "      <td>Russia</td>\n",
       "    </tr>\n",
       "    <tr>\n",
       "      <th>1</th>\n",
       "      <td>117</td>\n",
       "      <td>2016-08-20</td>\n",
       "      <td>7.491753</td>\n",
       "      <td>12.99</td>\n",
       "      <td>4</td>\n",
       "      <td>29.967011</td>\n",
       "      <td>50.1414</td>\n",
       "      <td>20.174389</td>\n",
       "      <td>Store</td>\n",
       "      <td>European Spring Promotion</td>\n",
       "      <td>Contoso 512MB MP3 Player E51 Blue</td>\n",
       "      <td>Contoso, Ltd</td>\n",
       "      <td>MP4&amp;MP3</td>\n",
       "      <td>Audio</td>\n",
       "      <td>Europe</td>\n",
       "      <td>Moscow</td>\n",
       "      <td>Russia</td>\n",
       "    </tr>\n",
       "    <tr>\n",
       "      <th>2</th>\n",
       "      <td>7018</td>\n",
       "      <td>2016-07-08</td>\n",
       "      <td>10.122338</td>\n",
       "      <td>159.99</td>\n",
       "      <td>9</td>\n",
       "      <td>91.101039</td>\n",
       "      <td>1395.1128</td>\n",
       "      <td>1304.011761</td>\n",
       "      <td>Store</td>\n",
       "      <td>European Spring Promotion</td>\n",
       "      <td>Contoso DVD 9-Inch Player Portable M300 Silver</td>\n",
       "      <td>Contoso, Ltd</td>\n",
       "      <td>Movie DVD</td>\n",
       "      <td>Music, Movies and Audio Books</td>\n",
       "      <td>Europe</td>\n",
       "      <td>Moscow</td>\n",
       "      <td>Russia</td>\n",
       "    </tr>\n",
       "    <tr>\n",
       "      <th>3</th>\n",
       "      <td>140</td>\n",
       "      <td>2018-08-11</td>\n",
       "      <td>0.576153</td>\n",
       "      <td>25.69</td>\n",
       "      <td>18</td>\n",
       "      <td>10.370759</td>\n",
       "      <td>462.4200</td>\n",
       "      <td>452.049241</td>\n",
       "      <td>Store</td>\n",
       "      <td>North America Spring Promotion</td>\n",
       "      <td>NT Bluetooth Stereo Headphones E52 Pink</td>\n",
       "      <td>Northwind Traders</td>\n",
       "      <td>Bluetooth Headphones</td>\n",
       "      <td>Audio</td>\n",
       "      <td>North America</td>\n",
       "      <td>Bellevue</td>\n",
       "      <td>United States</td>\n",
       "    </tr>\n",
       "    <tr>\n",
       "      <th>4</th>\n",
       "      <td>491</td>\n",
       "      <td>2017-07-15</td>\n",
       "      <td>108.508777</td>\n",
       "      <td>304.00</td>\n",
       "      <td>9</td>\n",
       "      <td>976.578991</td>\n",
       "      <td>2614.4000</td>\n",
       "      <td>1637.821009</td>\n",
       "      <td>Online</td>\n",
       "      <td>Asian Spring Promotion</td>\n",
       "      <td>Contoso SLR Camera M143 Grey</td>\n",
       "      <td>Contoso, Ltd</td>\n",
       "      <td>Digital SLR Cameras</td>\n",
       "      <td>Cameras and camcorders</td>\n",
       "      <td>Asia</td>\n",
       "      <td>Beijing</td>\n",
       "      <td>China</td>\n",
       "    </tr>\n",
       "    <tr>\n",
       "      <th>...</th>\n",
       "      <td>...</td>\n",
       "      <td>...</td>\n",
       "      <td>...</td>\n",
       "      <td>...</td>\n",
       "      <td>...</td>\n",
       "      <td>...</td>\n",
       "      <td>...</td>\n",
       "      <td>...</td>\n",
       "      <td>...</td>\n",
       "      <td>...</td>\n",
       "      <td>...</td>\n",
       "      <td>...</td>\n",
       "      <td>...</td>\n",
       "      <td>...</td>\n",
       "      <td>...</td>\n",
       "      <td>...</td>\n",
       "      <td>...</td>\n",
       "    </tr>\n",
       "    <tr>\n",
       "      <th>14995</th>\n",
       "      <td>22348</td>\n",
       "      <td>2016-10-03</td>\n",
       "      <td>16.240455</td>\n",
       "      <td>25.00</td>\n",
       "      <td>12</td>\n",
       "      <td>194.885455</td>\n",
       "      <td>300.0000</td>\n",
       "      <td>105.114545</td>\n",
       "      <td>Store</td>\n",
       "      <td>Asian Summer Promotion</td>\n",
       "      <td>Contoso USB Cable M250 Blue</td>\n",
       "      <td>Contoso, Ltd</td>\n",
       "      <td>Cameras &amp; Camcorders Accessories</td>\n",
       "      <td>Cameras and camcorders</td>\n",
       "      <td>Asia</td>\n",
       "      <td>Osaka</td>\n",
       "      <td>Japan</td>\n",
       "    </tr>\n",
       "    <tr>\n",
       "      <th>14996</th>\n",
       "      <td>22349</td>\n",
       "      <td>2016-10-20</td>\n",
       "      <td>55.387212</td>\n",
       "      <td>999.00</td>\n",
       "      <td>10</td>\n",
       "      <td>553.872121</td>\n",
       "      <td>9990.0000</td>\n",
       "      <td>9436.127879</td>\n",
       "      <td>Reseller</td>\n",
       "      <td>No Discount</td>\n",
       "      <td>WWI Projector 720p DLP56 White</td>\n",
       "      <td>Wide World Importers</td>\n",
       "      <td>Projectors &amp; Screens</td>\n",
       "      <td>Computers</td>\n",
       "      <td>Europe</td>\n",
       "      <td>Paris</td>\n",
       "      <td>France</td>\n",
       "    </tr>\n",
       "    <tr>\n",
       "      <th>14997</th>\n",
       "      <td>22350</td>\n",
       "      <td>2017-05-20</td>\n",
       "      <td>363.634986</td>\n",
       "      <td>588.00</td>\n",
       "      <td>13</td>\n",
       "      <td>4727.254816</td>\n",
       "      <td>7408.8000</td>\n",
       "      <td>2681.545184</td>\n",
       "      <td>Store</td>\n",
       "      <td>North America Holiday Promotion</td>\n",
       "      <td>A. Datum SLR Camera 35\" X358 Gold</td>\n",
       "      <td>A. Datum Corporation</td>\n",
       "      <td>Digital SLR Cameras</td>\n",
       "      <td>Cameras and camcorders</td>\n",
       "      <td>North America</td>\n",
       "      <td>Ithaca</td>\n",
       "      <td>United States</td>\n",
       "    </tr>\n",
       "    <tr>\n",
       "      <th>14998</th>\n",
       "      <td>22351</td>\n",
       "      <td>2017-11-05</td>\n",
       "      <td>113.237461</td>\n",
       "      <td>279.00</td>\n",
       "      <td>12</td>\n",
       "      <td>1358.849536</td>\n",
       "      <td>3348.0000</td>\n",
       "      <td>1989.150464</td>\n",
       "      <td>Online</td>\n",
       "      <td>Asian Summer Promotion</td>\n",
       "      <td>Adventure Works LCD20W M240 Black</td>\n",
       "      <td>Adventure Works</td>\n",
       "      <td>Monitors</td>\n",
       "      <td>Computers</td>\n",
       "      <td>Asia</td>\n",
       "      <td>Beijing</td>\n",
       "      <td>China</td>\n",
       "    </tr>\n",
       "    <tr>\n",
       "      <th>14999</th>\n",
       "      <td>22352</td>\n",
       "      <td>2018-09-01</td>\n",
       "      <td>10.936943</td>\n",
       "      <td>15.90</td>\n",
       "      <td>20</td>\n",
       "      <td>218.738862</td>\n",
       "      <td>318.0000</td>\n",
       "      <td>99.261138</td>\n",
       "      <td>Store</td>\n",
       "      <td>No Discount</td>\n",
       "      <td>Contoso USB Wave Multi-media Keyboard E280 Black</td>\n",
       "      <td>Contoso, Ltd</td>\n",
       "      <td>Computers Accessories</td>\n",
       "      <td>Computers</td>\n",
       "      <td>North America</td>\n",
       "      <td>Spring</td>\n",
       "      <td>United States</td>\n",
       "    </tr>\n",
       "  </tbody>\n",
       "</table>\n",
       "<p>15000 rows × 17 columns</p>\n",
       "</div>"
      ],
      "text/plain": [
       "       Order ID Order Date   Unit Cost   Price  Order Qty  Cost of Sales  \\\n",
       "0          7077 2017-09-13   76.094968  304.00          9     684.854710   \n",
       "1           117 2016-08-20    7.491753   12.99          4      29.967011   \n",
       "2          7018 2016-07-08   10.122338  159.99          9      91.101039   \n",
       "3           140 2018-08-11    0.576153   25.69         18      10.370759   \n",
       "4           491 2017-07-15  108.508777  304.00          9     976.578991   \n",
       "...         ...        ...         ...     ...        ...            ...   \n",
       "14995     22348 2016-10-03   16.240455   25.00         12     194.885455   \n",
       "14996     22349 2016-10-20   55.387212  999.00         10     553.872121   \n",
       "14997     22350 2017-05-20  363.634986  588.00         13    4727.254816   \n",
       "14998     22351 2017-11-05  113.237461  279.00         12    1358.849536   \n",
       "14999     22352 2018-09-01   10.936943   15.90         20     218.738862   \n",
       "\n",
       "           Sales       Profit   Channel                   Promotion Name  \\\n",
       "0      2714.7200  2029.865290     Store        European Spring Promotion   \n",
       "1        50.1414    20.174389     Store        European Spring Promotion   \n",
       "2      1395.1128  1304.011761     Store        European Spring Promotion   \n",
       "3       462.4200   452.049241     Store   North America Spring Promotion   \n",
       "4      2614.4000  1637.821009    Online           Asian Spring Promotion   \n",
       "...          ...          ...       ...                              ...   \n",
       "14995   300.0000   105.114545     Store           Asian Summer Promotion   \n",
       "14996  9990.0000  9436.127879  Reseller                      No Discount   \n",
       "14997  7408.8000  2681.545184     Store  North America Holiday Promotion   \n",
       "14998  3348.0000  1989.150464    Online           Asian Summer Promotion   \n",
       "14999   318.0000    99.261138     Store                      No Discount   \n",
       "\n",
       "                                           Product Name          Manufacturer  \\\n",
       "0                          Contoso SLR Camera M143 Grey          Contoso, Ltd   \n",
       "1                     Contoso 512MB MP3 Player E51 Blue          Contoso, Ltd   \n",
       "2        Contoso DVD 9-Inch Player Portable M300 Silver          Contoso, Ltd   \n",
       "3               NT Bluetooth Stereo Headphones E52 Pink     Northwind Traders   \n",
       "4                          Contoso SLR Camera M143 Grey          Contoso, Ltd   \n",
       "...                                                 ...                   ...   \n",
       "14995                       Contoso USB Cable M250 Blue          Contoso, Ltd   \n",
       "14996                    WWI Projector 720p DLP56 White  Wide World Importers   \n",
       "14997                 A. Datum SLR Camera 35\" X358 Gold  A. Datum Corporation   \n",
       "14998                 Adventure Works LCD20W M240 Black       Adventure Works   \n",
       "14999  Contoso USB Wave Multi-media Keyboard E280 Black          Contoso, Ltd   \n",
       "\n",
       "                   Product Sub Category               Product Category  \\\n",
       "0                   Digital SLR Cameras        Cameras and camcorders    \n",
       "1                               MP4&MP3                          Audio   \n",
       "2                             Movie DVD  Music, Movies and Audio Books   \n",
       "3                  Bluetooth Headphones                          Audio   \n",
       "4                   Digital SLR Cameras        Cameras and camcorders    \n",
       "...                                 ...                            ...   \n",
       "14995  Cameras & Camcorders Accessories        Cameras and camcorders    \n",
       "14996              Projectors & Screens                      Computers   \n",
       "14997               Digital SLR Cameras        Cameras and camcorders    \n",
       "14998                          Monitors                      Computers   \n",
       "14999             Computers Accessories                      Computers   \n",
       "\n",
       "              Region      City        Country  \n",
       "0             Europe    Moscow         Russia  \n",
       "1             Europe    Moscow         Russia  \n",
       "2             Europe    Moscow         Russia  \n",
       "3      North America  Bellevue  United States  \n",
       "4               Asia   Beijing          China  \n",
       "...              ...       ...            ...  \n",
       "14995           Asia     Osaka          Japan  \n",
       "14996         Europe     Paris         France  \n",
       "14997  North America    Ithaca  United States  \n",
       "14998           Asia   Beijing          China  \n",
       "14999  North America    Spring  United States  \n",
       "\n",
       "[15000 rows x 17 columns]"
      ]
     },
     "execution_count": 3,
     "metadata": {},
     "output_type": "execute_result"
    }
   ],
   "source": [
    "data"
   ]
  },
  {
   "cell_type": "code",
   "execution_count": 4,
   "id": "e49f12e6",
   "metadata": {},
   "outputs": [
    {
     "name": "stdout",
     "output_type": "stream",
     "text": [
      "<class 'pandas.core.frame.DataFrame'>\n",
      "RangeIndex: 15000 entries, 0 to 14999\n",
      "Data columns (total 17 columns):\n",
      " #   Column                Non-Null Count  Dtype         \n",
      "---  ------                --------------  -----         \n",
      " 0   Order ID              15000 non-null  int64         \n",
      " 1   Order Date            15000 non-null  datetime64[ns]\n",
      " 2   Unit Cost             15000 non-null  float64       \n",
      " 3   Price                 15000 non-null  float64       \n",
      " 4   Order Qty             15000 non-null  int64         \n",
      " 5   Cost of Sales         15000 non-null  float64       \n",
      " 6   Sales                 15000 non-null  float64       \n",
      " 7   Profit                15000 non-null  float64       \n",
      " 8   Channel               15000 non-null  object        \n",
      " 9   Promotion Name        15000 non-null  object        \n",
      " 10  Product Name          15000 non-null  object        \n",
      " 11  Manufacturer          15000 non-null  object        \n",
      " 12  Product Sub Category  15000 non-null  object        \n",
      " 13  Product Category      15000 non-null  object        \n",
      " 14  Region                15000 non-null  object        \n",
      " 15  City                  15000 non-null  object        \n",
      " 16  Country               15000 non-null  object        \n",
      "dtypes: datetime64[ns](1), float64(5), int64(2), object(9)\n",
      "memory usage: 1.9+ MB\n"
     ]
    }
   ],
   "source": [
    "data.info()"
   ]
  },
  {
   "cell_type": "code",
   "execution_count": 5,
   "id": "6c231bc2",
   "metadata": {},
   "outputs": [
    {
     "data": {
      "text/plain": [
       "array(['Moscow', 'Bellevue', 'Beijing', 'Yakima', 'Cheshire', 'Cle Elum',\n",
       "       'Westminster', 'Pittsfield', 'Baytown', 'Berlin', 'Cambridge',\n",
       "       'Ashgabat', 'Seattle', 'Bethesda', 'Leeds', 'Madison',\n",
       "       'Plattsburgh', 'Paris', 'Sydney', 'Ramstein', 'Cheney', 'Glasgow',\n",
       "       'Tehran', 'Roanoke', 'Calgary', 'Denver', 'Munich', 'Liverpool',\n",
       "       'Hong Kong', 'Redmond', 'Renton', 'North Harford', 'Nice',\n",
       "       'Bangkok', 'Port Washington', 'Holyoke', 'Edinburgh', 'Waterbury',\n",
       "       'Bishkek', 'Lafayette', 'Busan', 'Buffalo', 'Canberra',\n",
       "       'Wheat Ridge', 'Virginia Beach', 'Fall City', 'Islamabad',\n",
       "       'Kolkata', 'Saint Petersburg', 'Shanghai', 'Mumbai', 'Green Bay',\n",
       "       'New Delhi', 'Lewisville', 'Osaka', 'Dublin', 'Singapore',\n",
       "       'Berthoud', 'Oswego', 'Landstuhl', 'Queens', 'Tokyo',\n",
       "       'San Antonio', 'Yerevan', 'Athens', 'Koln', 'Bucharest',\n",
       "       'Beaumont', 'Norfolk', 'Copenhagen', 'Greenville', 'Knotty Ash',\n",
       "       'Key West', 'Lancashire', 'West Yorkshire', 'Milan', 'Rochester',\n",
       "       'Nizhny Novgorod', 'Bamberg', 'Milwaukee', 'New York', 'Stockport',\n",
       "       'Strasbourg', 'Alexandria', 'Poestenkill', 'Valletta', 'Albany',\n",
       "       'Quincy', 'Fredericksburg', 'Houston', 'Austin',\n",
       "       \"Queen Anne's County\", 'Bangor', 'Bayonne', 'New Haven', 'Trenton',\n",
       "       'Bridgeport', 'Boston', 'Burlington', 'Georgetown', 'Cape May',\n",
       "       'Charlottesville', 'Framingham', 'Clifton', 'Denton', 'Edgerton',\n",
       "       'Elmira', 'Englewood', 'Manitowoc', 'Falmouth', 'Oregon',\n",
       "       'Fort Worth', 'Grand Junction', 'Hackensack', 'Hartford',\n",
       "       'Texas City', 'Ottawa', 'Newark', 'Howard', 'Veradale', 'Parker',\n",
       "       'Jersey City', 'La Porte', 'Lakeland', 'Marshall', 'Miami',\n",
       "       'Morristown', 'Provincetown', 'Sunnyside', 'Northampton',\n",
       "       'Parkville', 'Russellville', 'Shreveport', 'Firenze', 'Stoughton',\n",
       "       'Tallahassee', 'Lisbon', 'Lowell', 'Seoul', 'Haverhill', 'Naples',\n",
       "       'Spokane', 'Brooklyn', 'Back River', 'Littleton', 'Ljubljana',\n",
       "       'Damascus', 'Minden', 'Round Rock', 'Greeley', 'Appleton',\n",
       "       'Cedar Park', 'Grand Prairie', 'Old Saybrook', 'Nantes',\n",
       "       'Fort Atkinson', 'Ithaca', 'Plano', 'Sapporo', 'Sedalia',\n",
       "       'Worcester', 'Snoqualmie', 'Berne', 'Winchester', 'Orange',\n",
       "       'Longview', 'Castle Rock', 'Hoboken', 'Leominster', 'Loveland',\n",
       "       'Sebring', 'Kennebunkport', 'Taipei', 'Montclair', 'Pasadena',\n",
       "       'Lyon', 'Anchorage', 'Giebelstadt', 'North Bend', 'Urumqi',\n",
       "       'Midland', 'Orlando', 'New London', 'Amsterdam', 'Toulouse',\n",
       "       'Spring', 'Oshkosh', 'Warsaw', 'Baumholder', 'Dusseldorf',\n",
       "       'South Portland', 'Somerville', 'Carlisle', 'Fond du Lac',\n",
       "       'Humble', 'Toronto', 'Germantown', 'Kennewick', 'Montreal',\n",
       "       'Granger', 'Racine', 'Bar Harbor', 'Nantucket', 'Lewiston',\n",
       "       'London', 'Hofheim am Taunus', 'Wapato', 'Darien', 'Paterson',\n",
       "       'Passaic', 'Thimphu', 'Thornton', 'Hingham', 'Bacliff', 'Lynn',\n",
       "       'Arlington', 'Vineland', 'Sheboygan', 'Atlantic City', 'Torino',\n",
       "       'Nagoya', 'Waukesha', 'Menasha', 'Madrid', 'Vancouver', 'York',\n",
       "       'Ridgely', 'Baildon', 'New Brunswick', 'Cape Canaveral', 'Boulder',\n",
       "       'New Bedford', 'Roma', 'Hillsboro', 'Milliken', 'Jacksonville',\n",
       "       'Everett', 'Litchfield County', 'Charleston', 'Manchester',\n",
       "       'New Castle', 'Richardson', 'Stockholm', 'Martinsville',\n",
       "       'Guangzhou', 'Toppenish', 'East Orange', 'Aurora', 'Baltimore',\n",
       "       'Fort Collins', 'Yokohama', 'Annapolis', 'Marseille',\n",
       "       'Fort Lauderdale', 'Attleboro', 'East Troy', 'Orono', 'Dallas',\n",
       "       'Tampa', 'Syracuse', 'Desoto', 'Kyoto', 'Venezia'], dtype=object)"
      ]
     },
     "execution_count": 5,
     "metadata": {},
     "output_type": "execute_result"
    }
   ],
   "source": [
    "data['City'].unique()"
   ]
  },
  {
   "cell_type": "code",
   "execution_count": 6,
   "id": "de7bde88",
   "metadata": {},
   "outputs": [
    {
     "data": {
      "text/plain": [
       "263"
      ]
     },
     "execution_count": 6,
     "metadata": {},
     "output_type": "execute_result"
    }
   ],
   "source": [
    "data['City'].nunique()"
   ]
  },
  {
   "cell_type": "code",
   "execution_count": 7,
   "id": "14b85d93",
   "metadata": {},
   "outputs": [
    {
     "data": {
      "text/plain": [
       "Store       9981\n",
       "Online      2351\n",
       "Reseller    1784\n",
       "Catalog      884\n",
       "Name: Channel, dtype: int64"
      ]
     },
     "execution_count": 7,
     "metadata": {},
     "output_type": "execute_result"
    }
   ],
   "source": [
    "data['Channel'].value_counts()"
   ]
  },
  {
   "cell_type": "code",
   "execution_count": 8,
   "id": "57788108",
   "metadata": {},
   "outputs": [
    {
     "data": {
      "text/plain": [
       "No Discount                               5207\n",
       "North America Spring Promotion            2079\n",
       "North America Back-to-School Promotion    2040\n",
       "North America Holiday Promotion           1415\n",
       "European Holiday Promotion                1025\n",
       "Asian Holiday Promotion                    750\n",
       "Asian Spring Promotion                     745\n",
       "European Spring Promotion                  721\n",
       "European Back-to-Scholl Promotion          520\n",
       "Asian Summer Promotion                     498\n",
       "Name: Promotion Name, dtype: int64"
      ]
     },
     "execution_count": 8,
     "metadata": {},
     "output_type": "execute_result"
    }
   ],
   "source": [
    "data['Promotion Name'].value_counts()"
   ]
  },
  {
   "cell_type": "code",
   "execution_count": 9,
   "id": "2920d205",
   "metadata": {},
   "outputs": [
    {
     "data": {
      "text/plain": [
       "0"
      ]
     },
     "execution_count": 9,
     "metadata": {},
     "output_type": "execute_result"
    }
   ],
   "source": [
    "data.duplicated().sum()"
   ]
  },
  {
   "cell_type": "code",
   "execution_count": 10,
   "id": "f1dfd828",
   "metadata": {},
   "outputs": [
    {
     "data": {
      "text/plain": [
       "Order ID                0\n",
       "Order Date              0\n",
       "Unit Cost               0\n",
       "Price                   0\n",
       "Order Qty               0\n",
       "Cost of Sales           0\n",
       "Sales                   0\n",
       "Profit                  0\n",
       "Channel                 0\n",
       "Promotion Name          0\n",
       "Product Name            0\n",
       "Manufacturer            0\n",
       "Product Sub Category    0\n",
       "Product Category        0\n",
       "Region                  0\n",
       "City                    0\n",
       "Country                 0\n",
       "dtype: int64"
      ]
     },
     "execution_count": 10,
     "metadata": {},
     "output_type": "execute_result"
    }
   ],
   "source": [
    "data.isna().sum()"
   ]
  },
  {
   "cell_type": "code",
   "execution_count": 11,
   "id": "3ef2dc05",
   "metadata": {},
   "outputs": [
    {
     "data": {
      "text/plain": [
       "Computers                        5359\n",
       "Cameras and camcorders           3590\n",
       "Cell phones                      2609\n",
       "TV and Video                     1878\n",
       "Music, Movies and Audio Books     832\n",
       "Audio                             732\n",
       "Name: Product Category, dtype: int64"
      ]
     },
     "execution_count": 11,
     "metadata": {},
     "output_type": "execute_result"
    }
   ],
   "source": [
    "data['Product Category'].value_counts()"
   ]
  },
  {
   "cell_type": "code",
   "execution_count": 12,
   "id": "0bff6a26",
   "metadata": {},
   "outputs": [
    {
     "data": {
      "text/plain": [
       "55692.56952167946"
      ]
     },
     "execution_count": 12,
     "metadata": {},
     "output_type": "execute_result"
    }
   ],
   "source": [
    "data['Profit'].max()"
   ]
  },
  {
   "cell_type": "code",
   "execution_count": 15,
   "id": "c7c903ef",
   "metadata": {},
   "outputs": [
    {
     "data": {
      "text/plain": [
       "-838.4267326426852"
      ]
     },
     "execution_count": 15,
     "metadata": {},
     "output_type": "execute_result"
    }
   ],
   "source": [
    "data['Profit'].min()"
   ]
  },
  {
   "cell_type": "code",
   "execution_count": 16,
   "id": "3e1b370a",
   "metadata": {},
   "outputs": [
    {
     "data": {
      "text/plain": [
       "Contoso, Ltd            4891\n",
       "Proseware, Inc.         1639\n",
       "Fabrikam, Inc.          1605\n",
       "Southridge Video        1540\n",
       "A. Datum Corporation    1342\n",
       "The Phone Company       1314\n",
       "Adventure Works         1125\n",
       "Wide World Importers     990\n",
       "Litware, Inc.            348\n",
       "Northwind Traders        206\n",
       "Name: Manufacturer, dtype: int64"
      ]
     },
     "execution_count": 16,
     "metadata": {},
     "output_type": "execute_result"
    }
   ],
   "source": [
    "data['Manufacturer'].value_counts()"
   ]
  },
  {
   "cell_type": "code",
   "execution_count": null,
   "id": "7f1df99f",
   "metadata": {},
   "outputs": [],
   "source": []
  }
 ],
 "metadata": {
  "kernelspec": {
   "display_name": "Python 3 (ipykernel)",
   "language": "python",
   "name": "python3"
  },
  "language_info": {
   "codemirror_mode": {
    "name": "ipython",
    "version": 3
   },
   "file_extension": ".py",
   "mimetype": "text/x-python",
   "name": "python",
   "nbconvert_exporter": "python",
   "pygments_lexer": "ipython3",
   "version": "3.7.3"
  }
 },
 "nbformat": 4,
 "nbformat_minor": 5
}
